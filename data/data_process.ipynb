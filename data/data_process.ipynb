{
 "cells": [
  {
   "cell_type": "code",
   "execution_count": 3,
   "metadata": {},
   "outputs": [
    {
     "name": "stdout",
     "output_type": "stream",
     "text": [
      "第一列已成功删除并保存。\n"
     ]
    }
   ],
   "source": [
    "import pandas as pd\n",
    "\n",
    "# 读取CSV文件\n",
    "file_path = '/root/zc/jiashicang_backend/data/data_processed_all_1011.csv'\n",
    "df = pd.read_csv(file_path)\n",
    "\n",
    "# 删除第一列\n",
    "df = df.drop(df.columns[0], axis=1)\n",
    "\n",
    "# 保存修改后的CSV文件\n",
    "df.to_csv(file_path, index=False)\n",
    "\n",
    "print(\"第一列已成功删除并保存。\")\n"
   ]
  },
  {
   "cell_type": "code",
   "execution_count": 4,
   "metadata": {},
   "outputs": [
    {
     "name": "stdout",
     "output_type": "stream",
     "text": [
      "出生日期已转换为年月日格式并保存。\n"
     ]
    }
   ],
   "source": [
    "import pandas as pd\n",
    "\n",
    "# 读取CSV文件\n",
    "file_path = '/root/zc/jiashicang_backend/data/data_processed_all_1011.csv'\n",
    "df = pd.read_csv(file_path)\n",
    "\n",
    "# 将出生日期列转换为date类型，假设列名为'出生日期'\n",
    "df['出生日期'] = pd.to_datetime(df['出生日期'], errors='coerce').dt.strftime('%Y-%m-%d')\n",
    "\n",
    "# 保存修改后的CSV文件\n",
    "df.to_csv(file_path, index=False)\n",
    "\n",
    "print(\"出生日期已转换为年月日格式并保存。\")\n"
   ]
  },
  {
   "cell_type": "code",
   "execution_count": 5,
   "metadata": {},
   "outputs": [
    {
     "name": "stdout",
     "output_type": "stream",
     "text": [
      "开始吸烟时间已处理并保存。\n"
     ]
    }
   ],
   "source": [
    "import pandas as pd\n",
    "import numpy as np\n",
    "\n",
    "# 读取CSV文件\n",
    "file_path = '/root/zc/jiashicang_backend/data/data_processed_all_1011.csv'\n",
    "df = pd.read_csv(file_path)\n",
    "\n",
    "# 处理“开始吸烟时间”列，假设列名为'开始吸烟时间'\n",
    "def process_smoking_start_time(value):\n",
    "    if value == '无':\n",
    "        return None  # 存为数据库中的NULL\n",
    "    try:\n",
    "        year = int(float(value))  # 处理像'2022.0'这样的情况，提取年份\n",
    "        return year  # 只存储年份\n",
    "    except:\n",
    "        return None  # 如果无法转换，则存为NULL\n",
    "\n",
    "df['开始吸烟时间'] = df['开始吸烟时间'].apply(process_smoking_start_time)\n",
    "\n",
    "# 保存修改后的CSV文件\n",
    "df.to_csv(file_path, index=False)\n",
    "\n",
    "print(\"开始吸烟时间已处理并保存。\")\n"
   ]
  },
  {
   "cell_type": "code",
   "execution_count": null,
   "metadata": {},
   "outputs": [],
   "source": [
    "CREATE TABLE users (\n",
    "    id TEXT,                   -- 自增主键\n",
    "    姓名 TEXT,                              -- 姓名\n",
    "    性别 TEXT,                              -- 性别\n",
    "    出生日期 DATE,                          -- 出生日期（可以存储为文本类型）\n",
    "    年龄 INTEGER,                           -- 年龄\n",
    "    手机 TEXT,                              -- 手机\n",
    "    建档人 TEXT,                            -- 建档人\n",
    "    建档日期 DATE,                          -- 建档日期\n",
    "    建档机构 TEXT,                          -- 建档机构\n",
    "    责任医生 TEXT,                          -- 责任医生\n",
    "    证件号码 TEXT,                          -- 证件号码\n",
    "    住宅电话 TEXT,                          -- 住宅电话\n",
    "    管理机构 TEXT,                          -- 管理机构\n",
    "    服务团队 TEXT,                          -- 服务团队\n",
    "    现住址 TEXT,                            -- 现住址\n",
    "    健康分类 TEXT,                          -- 健康分类\n",
    "    慢病分类 TEXT,                          -- 慢病分类\n",
    "    是否建档 TEXT,                      -- 是否建档\n",
    "    身份证号 TEXT,                          -- 身份证号\n",
    "    是否吸烟 TEXT,                      -- 是否吸烟\n",
    "    开始吸烟时间 DATE,                     -- 开始吸烟时间（存储年份或具体时间）\n",
    "    戒断时间 DATE,                         -- 戒断时间\n",
    "    吸烟量 TEXT,                           -- 吸烟量\n",
    "    是否饮酒 TEXT,                      -- 是否饮酒\n",
    "    饮酒类型 TEXT,                         -- 饮酒类型\n",
    "    饮酒量 TEXT,                           -- 饮酒量\n",
    "    饮酒频率 TEXT,                         -- 饮酒频率\n",
    "    戒酒日期 DATE,                         -- 戒酒日期\n",
    "    是否锻炼 TEXT,                      -- 是否锻炼\n",
    "    锻炼情况 TEXT,                         -- 锻炼情况\n",
    "    每次锻炼时间 TEXT,                     -- 每次锻炼时间\n",
    "    锻炼类型 TEXT,                         -- 锻炼类型\n",
    "    饮食习惯类型 TEXT,                     -- 饮食习惯类型\n",
    "    签约团队 TEXT,                         -- 签约团队\n",
    "    签约时间 DATE,                         -- 签约时间\n",
    "    生效时间 DATE,                         -- 生效时间\n",
    "    到期时间 DATE,                         -- 到期时间\n",
    "    是否签约 TEXT,                      -- 是否签约\n",
    "    BMI REAL,                               -- BMI（浮点数）\n",
    "    社区 TEXT,                             -- 社区\n",
    "    是否居家 TEXT,                      -- 是否居家\n",
    "    空腹血糖 REAL,                         -- 空腹血糖（浮点数）\n",
    "    舒张压 INTEGER,                        -- 舒张压\n",
    "    收缩压 INTEGER,                        -- 收缩压\n",
    "    BMI类型 TEXT,                          -- BMI类型\n",
    "    最近一次就诊时间 DATETIME,                 -- 最近一次就诊时间\n",
    "    是否有高血压 TEXT,                  -- 是否有高血压\n",
    "    是否有结核病 TEXT,                  -- 是否有结核病\n",
    "    是否有糖尿病 TEXT,                  -- 是否有糖尿病\n",
    "    是否有脑卒中 TEXT,                  -- 是否有脑卒中\n",
    "    是否有冠心病 TEXT,                  -- 是否有冠心病\n",
    "    是否有慢阻肺 TEXT,                  -- 是否有慢阻肺\n",
    "    时间差 INTEGER,                        -- 时间差（天数）\n",
    "    最近就诊时间范围 TEXT,                     -- 最近就诊时间\n",
    "    是否重点人群 TEXT,                  -- 是否重点人群\n",
    "    空腹血糖值 REAL,                       -- 空腹血糖值\n",
    "    血压类型 TEXT,                         -- 血压类型\n",
    "    年龄范围 TEXT,                         -- 年龄范围\n",
    "    地址 TEXT,                             -- 地址\n",
    "    formatted_address TEXT,                 -- formatted_address\n",
    "    location TEXT,                          -- location\n",
    "    full_address TEXT                       -- 完整地址\n",
    ");\n"
   ]
  },
  {
   "cell_type": "code",
   "execution_count": null,
   "metadata": {},
   "outputs": [],
   "source": []
  },
  {
   "cell_type": "code",
   "execution_count": 6,
   "metadata": {},
   "outputs": [
    {
     "name": "stdout",
     "output_type": "stream",
     "text": [
      "ID字段已成功移动到第一列并保存。\n"
     ]
    }
   ],
   "source": [
    "import pandas as pd\n",
    "\n",
    "# 文件路径\n",
    "file_path = '/root/zc/jiashicang_backend/data/data_processed_all_1011.csv'\n",
    "\n",
    "# 读取CSV文件\n",
    "df = pd.read_csv(file_path)\n",
    "\n",
    "# 确认\"ID\"字段存在\n",
    "if 'ID' in df.columns:\n",
    "    # 将\"ID\"列放到第一列\n",
    "    cols = ['ID'] + [col for col in df.columns if col != 'ID']\n",
    "    df = df[cols]\n",
    "    \n",
    "    # 保存修改后的文件\n",
    "    df.to_csv(file_path, index=False)\n",
    "    print(\"ID字段已成功移动到第一列并保存。\")\n",
    "else:\n",
    "    print(\"未找到ID字段。\")\n"
   ]
  },
  {
   "cell_type": "code",
   "execution_count": 9,
   "metadata": {},
   "outputs": [
    {
     "name": "stdout",
     "output_type": "stream",
     "text": [
      "第一行已删除并保存为 /root/zc/jiashicang_backend/data/data_processed_all_1011_for_db.csv\n"
     ]
    }
   ],
   "source": [
    "import pandas as pd\n",
    "\n",
    "# 原始文件路径\n",
    "input_file = '/root/zc/jiashicang_backend/data/data_processed_all_1011.csv'\n",
    "\n",
    "# 保存新文件的路径\n",
    "output_file = '/root/zc/jiashicang_backend/data/data_processed_all_1011_for_db.csv'\n",
    "\n",
    "# 读取CSV文件并跳过第一行\n",
    "df = pd.read_csv(input_file, skiprows=1)\n",
    "\n",
    "# 保存修改后的文件为新的路径\n",
    "df.to_csv(output_file, index=False)\n",
    "\n",
    "print(f\"第一行已删除并保存为 {output_file}\")\n"
   ]
  },
  {
   "cell_type": "code",
   "execution_count": 8,
   "metadata": {},
   "outputs": [
    {
     "name": "stdout",
     "output_type": "stream",
     "text": [
      "ID字段为NaN的行数: 613\n",
      "ID字段中的NaN值已替换为空字符串，并保存到原文件中。\n"
     ]
    }
   ],
   "source": [
    "import pandas as pd\n",
    "\n",
    "# 文件路径\n",
    "file_path = '/root/zc/jiashicang_backend/data/data_processed_all_1011.csv'\n",
    "\n",
    "# 读取CSV文件\n",
    "df = pd.read_csv(file_path)\n",
    "\n",
    "# 统计ID字段为NaN的行数\n",
    "null_count = df['ID'].isna().sum()\n",
    "print(f\"ID字段为NaN的行数: {null_count}\")\n",
    "\n",
    "# 将ID字段中的NaN替换为空字符串\n",
    "df['ID'] = df['ID'].fillna('')\n",
    "\n",
    "# 保存修改后的文件\n",
    "df.to_csv(file_path, index=False)\n",
    "\n",
    "print(\"ID字段中的NaN值已替换为空字符串，并保存到原文件中。\")"
   ]
  }
 ],
 "metadata": {
  "language_info": {
   "name": "python"
  }
 },
 "nbformat": 4,
 "nbformat_minor": 2
}
